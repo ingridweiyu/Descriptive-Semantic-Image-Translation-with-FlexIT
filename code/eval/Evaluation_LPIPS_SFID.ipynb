{
  "nbformat": 4,
  "nbformat_minor": 0,
  "metadata": {
    "colab": {
      "name": "Evaluation_LPIPS_SFID.ipynb",
      "provenance": [],
      "collapsed_sections": []
    },
    "kernelspec": {
      "name": "python3",
      "display_name": "Python 3"
    },
    "language_info": {
      "name": "python"
    },
    "widgets": {
      "application/vnd.jupyter.widget-state+json": {
        "0cdaef9dbc074cb3a669064e29c67b41": {
          "model_module": "@jupyter-widgets/controls",
          "model_name": "HBoxModel",
          "model_module_version": "1.5.0",
          "state": {
            "_dom_classes": [],
            "_model_module": "@jupyter-widgets/controls",
            "_model_module_version": "1.5.0",
            "_model_name": "HBoxModel",
            "_view_count": null,
            "_view_module": "@jupyter-widgets/controls",
            "_view_module_version": "1.5.0",
            "_view_name": "HBoxView",
            "box_style": "",
            "children": [
              "IPY_MODEL_fcf3b69ec2f54900839e63b67a7a745c",
              "IPY_MODEL_f1ee0a409d8b49878f8f03619e68ec4b",
              "IPY_MODEL_f02ffd0507d5405f967978a1bcfc97af"
            ],
            "layout": "IPY_MODEL_afe0091b96aa46b3ac7010ddb2feea55"
          }
        },
        "fcf3b69ec2f54900839e63b67a7a745c": {
          "model_module": "@jupyter-widgets/controls",
          "model_name": "HTMLModel",
          "model_module_version": "1.5.0",
          "state": {
            "_dom_classes": [],
            "_model_module": "@jupyter-widgets/controls",
            "_model_module_version": "1.5.0",
            "_model_name": "HTMLModel",
            "_view_count": null,
            "_view_module": "@jupyter-widgets/controls",
            "_view_module_version": "1.5.0",
            "_view_name": "HTMLView",
            "description": "",
            "description_tooltip": null,
            "layout": "IPY_MODEL_658d87f7f13045f4bccfb3183919d490",
            "placeholder": "​",
            "style": "IPY_MODEL_9800b5e77bf94fd3bb23f76ca6636b5e",
            "value": "100%"
          }
        },
        "f1ee0a409d8b49878f8f03619e68ec4b": {
          "model_module": "@jupyter-widgets/controls",
          "model_name": "FloatProgressModel",
          "model_module_version": "1.5.0",
          "state": {
            "_dom_classes": [],
            "_model_module": "@jupyter-widgets/controls",
            "_model_module_version": "1.5.0",
            "_model_name": "FloatProgressModel",
            "_view_count": null,
            "_view_module": "@jupyter-widgets/controls",
            "_view_module_version": "1.5.0",
            "_view_name": "ProgressView",
            "bar_style": "success",
            "description": "",
            "description_tooltip": null,
            "layout": "IPY_MODEL_9066452d06f94814a9d3d4f09ed0f105",
            "max": 553433881,
            "min": 0,
            "orientation": "horizontal",
            "style": "IPY_MODEL_ef2b68d8eddc415f9f556048fb12356d",
            "value": 553433881
          }
        },
        "f02ffd0507d5405f967978a1bcfc97af": {
          "model_module": "@jupyter-widgets/controls",
          "model_name": "HTMLModel",
          "model_module_version": "1.5.0",
          "state": {
            "_dom_classes": [],
            "_model_module": "@jupyter-widgets/controls",
            "_model_module_version": "1.5.0",
            "_model_name": "HTMLModel",
            "_view_count": null,
            "_view_module": "@jupyter-widgets/controls",
            "_view_module_version": "1.5.0",
            "_view_name": "HTMLView",
            "description": "",
            "description_tooltip": null,
            "layout": "IPY_MODEL_d869b865aa594a2da50d2172de8f4e00",
            "placeholder": "​",
            "style": "IPY_MODEL_69ecf724c02b42cca0c25fda07768bea",
            "value": " 528M/528M [00:03&lt;00:00, 186MB/s]"
          }
        },
        "afe0091b96aa46b3ac7010ddb2feea55": {
          "model_module": "@jupyter-widgets/base",
          "model_name": "LayoutModel",
          "model_module_version": "1.2.0",
          "state": {
            "_model_module": "@jupyter-widgets/base",
            "_model_module_version": "1.2.0",
            "_model_name": "LayoutModel",
            "_view_count": null,
            "_view_module": "@jupyter-widgets/base",
            "_view_module_version": "1.2.0",
            "_view_name": "LayoutView",
            "align_content": null,
            "align_items": null,
            "align_self": null,
            "border": null,
            "bottom": null,
            "display": null,
            "flex": null,
            "flex_flow": null,
            "grid_area": null,
            "grid_auto_columns": null,
            "grid_auto_flow": null,
            "grid_auto_rows": null,
            "grid_column": null,
            "grid_gap": null,
            "grid_row": null,
            "grid_template_areas": null,
            "grid_template_columns": null,
            "grid_template_rows": null,
            "height": null,
            "justify_content": null,
            "justify_items": null,
            "left": null,
            "margin": null,
            "max_height": null,
            "max_width": null,
            "min_height": null,
            "min_width": null,
            "object_fit": null,
            "object_position": null,
            "order": null,
            "overflow": null,
            "overflow_x": null,
            "overflow_y": null,
            "padding": null,
            "right": null,
            "top": null,
            "visibility": null,
            "width": null
          }
        },
        "658d87f7f13045f4bccfb3183919d490": {
          "model_module": "@jupyter-widgets/base",
          "model_name": "LayoutModel",
          "model_module_version": "1.2.0",
          "state": {
            "_model_module": "@jupyter-widgets/base",
            "_model_module_version": "1.2.0",
            "_model_name": "LayoutModel",
            "_view_count": null,
            "_view_module": "@jupyter-widgets/base",
            "_view_module_version": "1.2.0",
            "_view_name": "LayoutView",
            "align_content": null,
            "align_items": null,
            "align_self": null,
            "border": null,
            "bottom": null,
            "display": null,
            "flex": null,
            "flex_flow": null,
            "grid_area": null,
            "grid_auto_columns": null,
            "grid_auto_flow": null,
            "grid_auto_rows": null,
            "grid_column": null,
            "grid_gap": null,
            "grid_row": null,
            "grid_template_areas": null,
            "grid_template_columns": null,
            "grid_template_rows": null,
            "height": null,
            "justify_content": null,
            "justify_items": null,
            "left": null,
            "margin": null,
            "max_height": null,
            "max_width": null,
            "min_height": null,
            "min_width": null,
            "object_fit": null,
            "object_position": null,
            "order": null,
            "overflow": null,
            "overflow_x": null,
            "overflow_y": null,
            "padding": null,
            "right": null,
            "top": null,
            "visibility": null,
            "width": null
          }
        },
        "9800b5e77bf94fd3bb23f76ca6636b5e": {
          "model_module": "@jupyter-widgets/controls",
          "model_name": "DescriptionStyleModel",
          "model_module_version": "1.5.0",
          "state": {
            "_model_module": "@jupyter-widgets/controls",
            "_model_module_version": "1.5.0",
            "_model_name": "DescriptionStyleModel",
            "_view_count": null,
            "_view_module": "@jupyter-widgets/base",
            "_view_module_version": "1.2.0",
            "_view_name": "StyleView",
            "description_width": ""
          }
        },
        "9066452d06f94814a9d3d4f09ed0f105": {
          "model_module": "@jupyter-widgets/base",
          "model_name": "LayoutModel",
          "model_module_version": "1.2.0",
          "state": {
            "_model_module": "@jupyter-widgets/base",
            "_model_module_version": "1.2.0",
            "_model_name": "LayoutModel",
            "_view_count": null,
            "_view_module": "@jupyter-widgets/base",
            "_view_module_version": "1.2.0",
            "_view_name": "LayoutView",
            "align_content": null,
            "align_items": null,
            "align_self": null,
            "border": null,
            "bottom": null,
            "display": null,
            "flex": null,
            "flex_flow": null,
            "grid_area": null,
            "grid_auto_columns": null,
            "grid_auto_flow": null,
            "grid_auto_rows": null,
            "grid_column": null,
            "grid_gap": null,
            "grid_row": null,
            "grid_template_areas": null,
            "grid_template_columns": null,
            "grid_template_rows": null,
            "height": null,
            "justify_content": null,
            "justify_items": null,
            "left": null,
            "margin": null,
            "max_height": null,
            "max_width": null,
            "min_height": null,
            "min_width": null,
            "object_fit": null,
            "object_position": null,
            "order": null,
            "overflow": null,
            "overflow_x": null,
            "overflow_y": null,
            "padding": null,
            "right": null,
            "top": null,
            "visibility": null,
            "width": null
          }
        },
        "ef2b68d8eddc415f9f556048fb12356d": {
          "model_module": "@jupyter-widgets/controls",
          "model_name": "ProgressStyleModel",
          "model_module_version": "1.5.0",
          "state": {
            "_model_module": "@jupyter-widgets/controls",
            "_model_module_version": "1.5.0",
            "_model_name": "ProgressStyleModel",
            "_view_count": null,
            "_view_module": "@jupyter-widgets/base",
            "_view_module_version": "1.2.0",
            "_view_name": "StyleView",
            "bar_color": null,
            "description_width": ""
          }
        },
        "d869b865aa594a2da50d2172de8f4e00": {
          "model_module": "@jupyter-widgets/base",
          "model_name": "LayoutModel",
          "model_module_version": "1.2.0",
          "state": {
            "_model_module": "@jupyter-widgets/base",
            "_model_module_version": "1.2.0",
            "_model_name": "LayoutModel",
            "_view_count": null,
            "_view_module": "@jupyter-widgets/base",
            "_view_module_version": "1.2.0",
            "_view_name": "LayoutView",
            "align_content": null,
            "align_items": null,
            "align_self": null,
            "border": null,
            "bottom": null,
            "display": null,
            "flex": null,
            "flex_flow": null,
            "grid_area": null,
            "grid_auto_columns": null,
            "grid_auto_flow": null,
            "grid_auto_rows": null,
            "grid_column": null,
            "grid_gap": null,
            "grid_row": null,
            "grid_template_areas": null,
            "grid_template_columns": null,
            "grid_template_rows": null,
            "height": null,
            "justify_content": null,
            "justify_items": null,
            "left": null,
            "margin": null,
            "max_height": null,
            "max_width": null,
            "min_height": null,
            "min_width": null,
            "object_fit": null,
            "object_position": null,
            "order": null,
            "overflow": null,
            "overflow_x": null,
            "overflow_y": null,
            "padding": null,
            "right": null,
            "top": null,
            "visibility": null,
            "width": null
          }
        },
        "69ecf724c02b42cca0c25fda07768bea": {
          "model_module": "@jupyter-widgets/controls",
          "model_name": "DescriptionStyleModel",
          "model_module_version": "1.5.0",
          "state": {
            "_model_module": "@jupyter-widgets/controls",
            "_model_module_version": "1.5.0",
            "_model_name": "DescriptionStyleModel",
            "_view_count": null,
            "_view_module": "@jupyter-widgets/base",
            "_view_module_version": "1.2.0",
            "_view_name": "StyleView",
            "description_width": ""
          }
        }
      }
    }
  },
  "cells": [
    {
      "cell_type": "code",
      "source": [
        "from google.colab import drive\n",
        "drive.mount('/content/drive')"
      ],
      "metadata": {
        "colab": {
          "base_uri": "https://localhost:8080/"
        },
        "id": "p_uIzEszpSV_",
        "outputId": "aa13dd63-8c7f-46a5-ea39-4968ecb16687"
      },
      "execution_count": null,
      "outputs": [
        {
          "output_type": "stream",
          "name": "stdout",
          "text": [
            "Drive already mounted at /content/drive; to attempt to forcibly remount, call drive.mount(\"/content/drive\", force_remount=True).\n"
          ]
        }
      ]
    },
    {
      "cell_type": "markdown",
      "source": [
        "ImageNet https://www.image-net.org\n",
        "\n",
        "Cars https://ai.stanford.edu/ jkrause/cars/car dataset.html\n",
        "\n",
        "LPIPS https://github.com/richzhang/PerceptualSimilarity\n",
        "\n",
        "FID https://github.com/mseitzer/pytorch-fid\n",
        "\n",
        "DeiT https://github.com/facebookresearch/deit\n",
        "\n",
        "CLIP https://github.com/openai/CLIP\n",
        "\n",
        "VQGAN https://github.com/CompVis/taming-transformers\n",
        "\n",
        "IC-GAN https://github.com/facebookresearch/ic gan\n",
        "\n",
        "StyleGAN2 https://github.com/justinpinkney/awesome-pretrained-stylegan2\n",
        "\n",
        "e4e https://github.com/omertov/encoder4editing"
      ],
      "metadata": {
        "id": "mC3soCskiGWr"
      }
    },
    {
      "cell_type": "markdown",
      "source": [
        "##(1) Learned Perceptual Image Patch Similarity (LPIPS) metric\n",
        "- Evaluate the distance between image patches. Higher means further/more different. Lower means more similar.\n",
        "\n",
        "Either line commands or python code."
      ],
      "metadata": {
        "id": "GwzfLIvXibfd"
      }
    },
    {
      "cell_type": "code",
      "execution_count": null,
      "metadata": {
        "colab": {
          "base_uri": "https://localhost:8080/"
        },
        "id": "L6rZoDF7hx6Z",
        "outputId": "9396e433-b0b6-497a-f2e1-630dcbd5a218"
      },
      "outputs": [
        {
          "output_type": "stream",
          "name": "stdout",
          "text": [
            "Cloning into 'PerceptualSimilarity'...\n",
            "remote: Enumerating objects: 778, done.\u001b[K\n",
            "remote: Counting objects: 100% (47/47), done.\u001b[K\n",
            "remote: Compressing objects: 100% (35/35), done.\u001b[K\n",
            "remote: Total 778 (delta 24), reused 28 (delta 12), pack-reused 731\u001b[K\n",
            "Receiving objects: 100% (778/778), 8.76 MiB | 31.80 MiB/s, done.\n",
            "Resolving deltas: 100% (455/455), done.\n"
          ]
        }
      ],
      "source": [
        "!git clone https://github.com/richzhang/PerceptualSimilarity"
      ]
    },
    {
      "cell_type": "code",
      "source": [
        "!ls"
      ],
      "metadata": {
        "colab": {
          "base_uri": "https://localhost:8080/"
        },
        "id": "SK9hrCgY7fFV",
        "outputId": "9a9cbe52-dbb2-43be-ccfb-2baa405ba20c"
      },
      "execution_count": null,
      "outputs": [
        {
          "output_type": "stream",
          "name": "stdout",
          "text": [
            "drive  PerceptualSimilarity  sample_data\n"
          ]
        }
      ]
    },
    {
      "cell_type": "code",
      "source": [
        "! cd PerceptualSimilarity"
      ],
      "metadata": {
        "id": "kGvZL4BTiixT"
      },
      "execution_count": null,
      "outputs": []
    },
    {
      "cell_type": "code",
      "source": [
        "!pip3 install -r PerceptualSimilarity/requirements.txt"
      ],
      "metadata": {
        "colab": {
          "base_uri": "https://localhost:8080/"
        },
        "id": "m5xTcO1_ixGv",
        "outputId": "9e272b5a-db18-40ad-ca87-aed634486001"
      },
      "execution_count": null,
      "outputs": [
        {
          "output_type": "stream",
          "name": "stdout",
          "text": [
            "Requirement already satisfied: torch>=0.4.0 in /usr/local/lib/python3.7/dist-packages (from -r PerceptualSimilarity/requirements.txt (line 1)) (1.10.0+cu111)\n",
            "Requirement already satisfied: torchvision>=0.2.1 in /usr/local/lib/python3.7/dist-packages (from -r PerceptualSimilarity/requirements.txt (line 2)) (0.11.1+cu111)\n",
            "Requirement already satisfied: numpy>=1.14.3 in /usr/local/lib/python3.7/dist-packages (from -r PerceptualSimilarity/requirements.txt (line 3)) (1.21.5)\n",
            "Requirement already satisfied: scipy>=1.0.1 in /usr/local/lib/python3.7/dist-packages (from -r PerceptualSimilarity/requirements.txt (line 4)) (1.4.1)\n",
            "Requirement already satisfied: scikit-image>=0.13.0 in /usr/local/lib/python3.7/dist-packages (from -r PerceptualSimilarity/requirements.txt (line 5)) (0.18.3)\n",
            "Requirement already satisfied: opencv-python>=2.4.11 in /usr/local/lib/python3.7/dist-packages (from -r PerceptualSimilarity/requirements.txt (line 6)) (4.1.2.30)\n",
            "Requirement already satisfied: matplotlib>=1.5.1 in /usr/local/lib/python3.7/dist-packages (from -r PerceptualSimilarity/requirements.txt (line 7)) (3.2.2)\n",
            "Requirement already satisfied: tqdm>=4.28.1 in /usr/local/lib/python3.7/dist-packages (from -r PerceptualSimilarity/requirements.txt (line 8)) (4.63.0)\n",
            "Requirement already satisfied: jupyter in /usr/local/lib/python3.7/dist-packages (from -r PerceptualSimilarity/requirements.txt (line 9)) (1.0.0)\n",
            "Requirement already satisfied: typing-extensions in /usr/local/lib/python3.7/dist-packages (from torch>=0.4.0->-r PerceptualSimilarity/requirements.txt (line 1)) (3.10.0.2)\n",
            "Requirement already satisfied: pillow!=8.3.0,>=5.3.0 in /usr/local/lib/python3.7/dist-packages (from torchvision>=0.2.1->-r PerceptualSimilarity/requirements.txt (line 2)) (7.1.2)\n",
            "Requirement already satisfied: networkx>=2.0 in /usr/local/lib/python3.7/dist-packages (from scikit-image>=0.13.0->-r PerceptualSimilarity/requirements.txt (line 5)) (2.6.3)\n",
            "Requirement already satisfied: PyWavelets>=1.1.1 in /usr/local/lib/python3.7/dist-packages (from scikit-image>=0.13.0->-r PerceptualSimilarity/requirements.txt (line 5)) (1.3.0)\n",
            "Requirement already satisfied: tifffile>=2019.7.26 in /usr/local/lib/python3.7/dist-packages (from scikit-image>=0.13.0->-r PerceptualSimilarity/requirements.txt (line 5)) (2021.11.2)\n",
            "Requirement already satisfied: imageio>=2.3.0 in /usr/local/lib/python3.7/dist-packages (from scikit-image>=0.13.0->-r PerceptualSimilarity/requirements.txt (line 5)) (2.4.1)\n",
            "Requirement already satisfied: kiwisolver>=1.0.1 in /usr/local/lib/python3.7/dist-packages (from matplotlib>=1.5.1->-r PerceptualSimilarity/requirements.txt (line 7)) (1.4.0)\n",
            "Requirement already satisfied: pyparsing!=2.0.4,!=2.1.2,!=2.1.6,>=2.0.1 in /usr/local/lib/python3.7/dist-packages (from matplotlib>=1.5.1->-r PerceptualSimilarity/requirements.txt (line 7)) (3.0.7)\n",
            "Requirement already satisfied: python-dateutil>=2.1 in /usr/local/lib/python3.7/dist-packages (from matplotlib>=1.5.1->-r PerceptualSimilarity/requirements.txt (line 7)) (2.8.2)\n",
            "Requirement already satisfied: cycler>=0.10 in /usr/local/lib/python3.7/dist-packages (from matplotlib>=1.5.1->-r PerceptualSimilarity/requirements.txt (line 7)) (0.11.0)\n",
            "Requirement already satisfied: six>=1.5 in /usr/local/lib/python3.7/dist-packages (from python-dateutil>=2.1->matplotlib>=1.5.1->-r PerceptualSimilarity/requirements.txt (line 7)) (1.15.0)\n",
            "Requirement already satisfied: qtconsole in /usr/local/lib/python3.7/dist-packages (from jupyter->-r PerceptualSimilarity/requirements.txt (line 9)) (5.2.2)\n",
            "Requirement already satisfied: ipykernel in /usr/local/lib/python3.7/dist-packages (from jupyter->-r PerceptualSimilarity/requirements.txt (line 9)) (4.10.1)\n",
            "Requirement already satisfied: ipywidgets in /usr/local/lib/python3.7/dist-packages (from jupyter->-r PerceptualSimilarity/requirements.txt (line 9)) (7.7.0)\n",
            "Requirement already satisfied: nbconvert in /usr/local/lib/python3.7/dist-packages (from jupyter->-r PerceptualSimilarity/requirements.txt (line 9)) (5.6.1)\n",
            "Requirement already satisfied: jupyter-console in /usr/local/lib/python3.7/dist-packages (from jupyter->-r PerceptualSimilarity/requirements.txt (line 9)) (5.2.0)\n",
            "Requirement already satisfied: notebook in /usr/local/lib/python3.7/dist-packages (from jupyter->-r PerceptualSimilarity/requirements.txt (line 9)) (5.3.1)\n",
            "Requirement already satisfied: traitlets>=4.1.0 in /usr/local/lib/python3.7/dist-packages (from ipykernel->jupyter->-r PerceptualSimilarity/requirements.txt (line 9)) (5.1.1)\n",
            "Requirement already satisfied: tornado>=4.0 in /usr/local/lib/python3.7/dist-packages (from ipykernel->jupyter->-r PerceptualSimilarity/requirements.txt (line 9)) (5.1.1)\n",
            "Requirement already satisfied: jupyter-client in /usr/local/lib/python3.7/dist-packages (from ipykernel->jupyter->-r PerceptualSimilarity/requirements.txt (line 9)) (5.3.5)\n",
            "Requirement already satisfied: ipython>=4.0.0 in /usr/local/lib/python3.7/dist-packages (from ipykernel->jupyter->-r PerceptualSimilarity/requirements.txt (line 9)) (5.5.0)\n",
            "Requirement already satisfied: simplegeneric>0.8 in /usr/local/lib/python3.7/dist-packages (from ipython>=4.0.0->ipykernel->jupyter->-r PerceptualSimilarity/requirements.txt (line 9)) (0.8.1)\n",
            "Requirement already satisfied: pexpect in /usr/local/lib/python3.7/dist-packages (from ipython>=4.0.0->ipykernel->jupyter->-r PerceptualSimilarity/requirements.txt (line 9)) (4.8.0)\n",
            "Requirement already satisfied: pygments in /usr/local/lib/python3.7/dist-packages (from ipython>=4.0.0->ipykernel->jupyter->-r PerceptualSimilarity/requirements.txt (line 9)) (2.6.1)\n",
            "Requirement already satisfied: setuptools>=18.5 in /usr/local/lib/python3.7/dist-packages (from ipython>=4.0.0->ipykernel->jupyter->-r PerceptualSimilarity/requirements.txt (line 9)) (57.4.0)\n",
            "Requirement already satisfied: decorator in /usr/local/lib/python3.7/dist-packages (from ipython>=4.0.0->ipykernel->jupyter->-r PerceptualSimilarity/requirements.txt (line 9)) (4.4.2)\n",
            "Requirement already satisfied: prompt-toolkit<2.0.0,>=1.0.4 in /usr/local/lib/python3.7/dist-packages (from ipython>=4.0.0->ipykernel->jupyter->-r PerceptualSimilarity/requirements.txt (line 9)) (1.0.18)\n",
            "Requirement already satisfied: pickleshare in /usr/local/lib/python3.7/dist-packages (from ipython>=4.0.0->ipykernel->jupyter->-r PerceptualSimilarity/requirements.txt (line 9)) (0.7.5)\n",
            "Requirement already satisfied: wcwidth in /usr/local/lib/python3.7/dist-packages (from prompt-toolkit<2.0.0,>=1.0.4->ipython>=4.0.0->ipykernel->jupyter->-r PerceptualSimilarity/requirements.txt (line 9)) (0.2.5)\n",
            "Requirement already satisfied: widgetsnbextension~=3.6.0 in /usr/local/lib/python3.7/dist-packages (from ipywidgets->jupyter->-r PerceptualSimilarity/requirements.txt (line 9)) (3.6.0)\n",
            "Requirement already satisfied: ipython-genutils~=0.2.0 in /usr/local/lib/python3.7/dist-packages (from ipywidgets->jupyter->-r PerceptualSimilarity/requirements.txt (line 9)) (0.2.0)\n",
            "Requirement already satisfied: nbformat>=4.2.0 in /usr/local/lib/python3.7/dist-packages (from ipywidgets->jupyter->-r PerceptualSimilarity/requirements.txt (line 9)) (5.2.0)\n",
            "Requirement already satisfied: jupyterlab-widgets>=1.0.0 in /usr/local/lib/python3.7/dist-packages (from ipywidgets->jupyter->-r PerceptualSimilarity/requirements.txt (line 9)) (1.1.0)\n",
            "Requirement already satisfied: jupyter-core in /usr/local/lib/python3.7/dist-packages (from nbformat>=4.2.0->ipywidgets->jupyter->-r PerceptualSimilarity/requirements.txt (line 9)) (4.9.2)\n",
            "Requirement already satisfied: jsonschema!=2.5.0,>=2.4 in /usr/local/lib/python3.7/dist-packages (from nbformat>=4.2.0->ipywidgets->jupyter->-r PerceptualSimilarity/requirements.txt (line 9)) (4.3.3)\n",
            "Requirement already satisfied: pyrsistent!=0.17.0,!=0.17.1,!=0.17.2,>=0.14.0 in /usr/local/lib/python3.7/dist-packages (from jsonschema!=2.5.0,>=2.4->nbformat>=4.2.0->ipywidgets->jupyter->-r PerceptualSimilarity/requirements.txt (line 9)) (0.18.1)\n",
            "Requirement already satisfied: attrs>=17.4.0 in /usr/local/lib/python3.7/dist-packages (from jsonschema!=2.5.0,>=2.4->nbformat>=4.2.0->ipywidgets->jupyter->-r PerceptualSimilarity/requirements.txt (line 9)) (21.4.0)\n",
            "Requirement already satisfied: importlib-metadata in /usr/local/lib/python3.7/dist-packages (from jsonschema!=2.5.0,>=2.4->nbformat>=4.2.0->ipywidgets->jupyter->-r PerceptualSimilarity/requirements.txt (line 9)) (4.11.3)\n",
            "Requirement already satisfied: importlib-resources>=1.4.0 in /usr/local/lib/python3.7/dist-packages (from jsonschema!=2.5.0,>=2.4->nbformat>=4.2.0->ipywidgets->jupyter->-r PerceptualSimilarity/requirements.txt (line 9)) (5.4.0)\n",
            "Requirement already satisfied: zipp>=3.1.0 in /usr/local/lib/python3.7/dist-packages (from importlib-resources>=1.4.0->jsonschema!=2.5.0,>=2.4->nbformat>=4.2.0->ipywidgets->jupyter->-r PerceptualSimilarity/requirements.txt (line 9)) (3.7.0)\n",
            "Requirement already satisfied: jinja2 in /usr/local/lib/python3.7/dist-packages (from notebook->jupyter->-r PerceptualSimilarity/requirements.txt (line 9)) (2.11.3)\n",
            "Requirement already satisfied: terminado>=0.8.1 in /usr/local/lib/python3.7/dist-packages (from notebook->jupyter->-r PerceptualSimilarity/requirements.txt (line 9)) (0.13.3)\n",
            "Requirement already satisfied: Send2Trash in /usr/local/lib/python3.7/dist-packages (from notebook->jupyter->-r PerceptualSimilarity/requirements.txt (line 9)) (1.8.0)\n",
            "Requirement already satisfied: pyzmq>=13 in /usr/local/lib/python3.7/dist-packages (from jupyter-client->ipykernel->jupyter->-r PerceptualSimilarity/requirements.txt (line 9)) (22.3.0)\n",
            "Requirement already satisfied: ptyprocess in /usr/local/lib/python3.7/dist-packages (from terminado>=0.8.1->notebook->jupyter->-r PerceptualSimilarity/requirements.txt (line 9)) (0.7.0)\n",
            "Requirement already satisfied: MarkupSafe>=0.23 in /usr/local/lib/python3.7/dist-packages (from jinja2->notebook->jupyter->-r PerceptualSimilarity/requirements.txt (line 9)) (2.0.1)\n",
            "Requirement already satisfied: entrypoints>=0.2.2 in /usr/local/lib/python3.7/dist-packages (from nbconvert->jupyter->-r PerceptualSimilarity/requirements.txt (line 9)) (0.4)\n",
            "Requirement already satisfied: defusedxml in /usr/local/lib/python3.7/dist-packages (from nbconvert->jupyter->-r PerceptualSimilarity/requirements.txt (line 9)) (0.7.1)\n",
            "Requirement already satisfied: testpath in /usr/local/lib/python3.7/dist-packages (from nbconvert->jupyter->-r PerceptualSimilarity/requirements.txt (line 9)) (0.6.0)\n",
            "Requirement already satisfied: bleach in /usr/local/lib/python3.7/dist-packages (from nbconvert->jupyter->-r PerceptualSimilarity/requirements.txt (line 9)) (4.1.0)\n",
            "Requirement already satisfied: mistune<2,>=0.8.1 in /usr/local/lib/python3.7/dist-packages (from nbconvert->jupyter->-r PerceptualSimilarity/requirements.txt (line 9)) (0.8.4)\n",
            "Requirement already satisfied: pandocfilters>=1.4.1 in /usr/local/lib/python3.7/dist-packages (from nbconvert->jupyter->-r PerceptualSimilarity/requirements.txt (line 9)) (1.5.0)\n",
            "Requirement already satisfied: webencodings in /usr/local/lib/python3.7/dist-packages (from bleach->nbconvert->jupyter->-r PerceptualSimilarity/requirements.txt (line 9)) (0.5.1)\n",
            "Requirement already satisfied: packaging in /usr/local/lib/python3.7/dist-packages (from bleach->nbconvert->jupyter->-r PerceptualSimilarity/requirements.txt (line 9)) (21.3)\n",
            "Requirement already satisfied: qtpy in /usr/local/lib/python3.7/dist-packages (from qtconsole->jupyter->-r PerceptualSimilarity/requirements.txt (line 9)) (2.0.1)\n"
          ]
        }
      ]
    },
    {
      "cell_type": "markdown",
      "source": [
        "###Line Command"
      ],
      "metadata": {
        "id": "6onz3SIglrRC"
      }
    },
    {
      "cell_type": "code",
      "source": [
        "!ls"
      ],
      "metadata": {
        "colab": {
          "base_uri": "https://localhost:8080/"
        },
        "id": "UhpOIrWglzzS",
        "outputId": "6726db5e-8c9e-4e68-e790-7cff1593e36f"
      },
      "execution_count": null,
      "outputs": [
        {
          "output_type": "stream",
          "name": "stdout",
          "text": [
            "data\t    lpips_1dir_allpairs.py  requirements.txt\t   train.py\n",
            "Dockerfile  lpips_2dirs.py\t    scripts\t\t   util\n",
            "imgs\t    lpips_2imgs.py\t    setup.py\n",
            "LICENSE     lpips_loss.py\t    test_dataset_model.py\n",
            "lpips\t    README.md\t\t    test_network.py\n"
          ]
        }
      ]
    },
    {
      "cell_type": "markdown",
      "source": [
        "Run python test_network.py to take the distance between example reference image ex_ref.png to distorted images ex_p0.png and ex_p1.png."
      ],
      "metadata": {
        "id": "2AZr2vi0mFAM"
      }
    },
    {
      "cell_type": "code",
      "source": [
        "!python3 lpips_2imgs.py -p0 imgs/ex_ref.png -p1 imgs/ex_p0.png --use_gpu\n",
        "!python3 lpips_2dirs.py -d0 imgs/ex_dir0 -d1 imgs/ex_dir1 -o imgs/example_dists.txt --use_gpu\n",
        "!python3 lpips_1dir_allpairs.py -d imgs/ex_dir_pair -o imgs/example_dists_pair.txt --use_gpu"
      ],
      "metadata": {
        "id": "V-DVIKU0lvex"
      },
      "execution_count": null,
      "outputs": []
    },
    {
      "cell_type": "markdown",
      "source": [
        "###Python Code"
      ],
      "metadata": {
        "id": "eo1LWQSylp0n"
      }
    },
    {
      "cell_type": "code",
      "source": [
        "import lpips\n",
        "import torch"
      ],
      "metadata": {
        "id": "ebO5okC3j4ce"
      },
      "execution_count": null,
      "outputs": []
    },
    {
      "cell_type": "code",
      "source": [
        "#loss_fn_alex = lpips.LPIPS(net='alex') # best forward scores\n",
        "loss_fn_vgg = lpips.LPIPS(net='vgg') # closer to \"traditional\" perceptual loss, when used for optimization"
      ],
      "metadata": {
        "colab": {
          "base_uri": "https://localhost:8080/",
          "height": 123,
          "referenced_widgets": [
            "0cdaef9dbc074cb3a669064e29c67b41",
            "fcf3b69ec2f54900839e63b67a7a745c",
            "f1ee0a409d8b49878f8f03619e68ec4b",
            "f02ffd0507d5405f967978a1bcfc97af",
            "afe0091b96aa46b3ac7010ddb2feea55",
            "658d87f7f13045f4bccfb3183919d490",
            "9800b5e77bf94fd3bb23f76ca6636b5e",
            "9066452d06f94814a9d3d4f09ed0f105",
            "ef2b68d8eddc415f9f556048fb12356d",
            "d869b865aa594a2da50d2172de8f4e00",
            "69ecf724c02b42cca0c25fda07768bea"
          ]
        },
        "id": "u2j6wliPjdl-",
        "outputId": "1bfdfd02-d396-4853-d84f-2893514875ea"
      },
      "execution_count": null,
      "outputs": [
        {
          "output_type": "stream",
          "name": "stdout",
          "text": [
            "Setting up [LPIPS] perceptual loss: trunk [vgg], v[0.1], spatial [off]\n"
          ]
        },
        {
          "output_type": "stream",
          "name": "stderr",
          "text": [
            "Downloading: \"https://download.pytorch.org/models/vgg16-397923af.pth\" to /root/.cache/torch/hub/checkpoints/vgg16-397923af.pth\n"
          ]
        },
        {
          "output_type": "display_data",
          "data": {
            "text/plain": [
              "  0%|          | 0.00/528M [00:00<?, ?B/s]"
            ],
            "application/vnd.jupyter.widget-view+json": {
              "version_major": 2,
              "version_minor": 0,
              "model_id": "0cdaef9dbc074cb3a669064e29c67b41"
            }
          },
          "metadata": {}
        },
        {
          "output_type": "stream",
          "name": "stdout",
          "text": [
            "Loading model from: /content/PerceptualSimilarity/lpips/weights/v0.1/vgg.pth\n"
          ]
        }
      ]
    },
    {
      "cell_type": "markdown",
      "source": [
        "Variables img0, img1 is a PyTorch Tensor/Variable with shape Nx3xHxW (N patches of size HxW, RGB images scaled in [-1,+1]). This returns d, a length N Tensor/Variable."
      ],
      "metadata": {
        "id": "mF_lAmNaku5e"
      }
    },
    {
      "cell_type": "code",
      "source": [
        "img0 = torch.zeros(1,3,64,64) # image should be RGB, IMPORTANT: normalized to [-1,1]\n",
        "img1 = torch.zeros(1,3,64,64)\n",
        "d = loss_fn_vgg(img0, img1)\n",
        "d"
      ],
      "metadata": {
        "colab": {
          "base_uri": "https://localhost:8080/"
        },
        "id": "4djZaZhlkCfZ",
        "outputId": "06b5f840-bad7-4919-f0e6-baf96199c19d"
      },
      "execution_count": null,
      "outputs": [
        {
          "output_type": "execute_result",
          "data": {
            "text/plain": [
              "tensor([[[[0.]]]], grad_fn=<AddBackward0>)"
            ]
          },
          "metadata": {},
          "execution_count": 12
        }
      ]
    },
    {
      "cell_type": "markdown",
      "source": [
        "##FID score for PyTorch\n",
        "- The official implementation of Fréchet Inception Distance to PyTorch. FID is a measure of similarity between two datasets of images. It was shown to correlate well with human judgement of visual quality and is most often used to evaluate the quality of samples of Generative Adversarial Networks. FID is calculated by computing the Fréchet distance between two Gaussians fitted to feature representations of the Inception network."
      ],
      "metadata": {
        "id": "HRv_dTrtmdZH"
      }
    },
    {
      "cell_type": "code",
      "source": [
        "!cd '/content/'"
      ],
      "metadata": {
        "id": "L_Jy0CkWmy9u"
      },
      "execution_count": null,
      "outputs": []
    },
    {
      "cell_type": "code",
      "source": [
        "!ls"
      ],
      "metadata": {
        "colab": {
          "base_uri": "https://localhost:8080/"
        },
        "id": "c0CI8Uubm7C1",
        "outputId": "661f8fe6-5316-45c9-bc7d-2892e27ae8d6"
      },
      "execution_count": null,
      "outputs": [
        {
          "output_type": "stream",
          "name": "stdout",
          "text": [
            "data\t    lpips_1dir_allpairs.py  requirements.txt\t   train.py\n",
            "Dockerfile  lpips_2dirs.py\t    scripts\t\t   util\n",
            "imgs\t    lpips_2imgs.py\t    setup.py\n",
            "LICENSE     lpips_loss.py\t    test_dataset_model.py\n",
            "lpips\t    README.md\t\t    test_network.py\n"
          ]
        }
      ]
    },
    {
      "cell_type": "code",
      "execution_count": null,
      "metadata": {
        "colab": {
          "base_uri": "https://localhost:8080/"
        },
        "outputId": "4c3f0adb-78d5-4658-f5c3-3b30186985c8",
        "id": "mi1ueR3tnTv0"
      },
      "outputs": [
        {
          "output_type": "stream",
          "name": "stdout",
          "text": [
            "Cloning into 'pytorch-fid'...\n",
            "remote: Enumerating objects: 180, done.\u001b[K\n",
            "remote: Counting objects:   2% (1/35)\u001b[K\rremote: Counting objects:   5% (2/35)\u001b[K\rremote: Counting objects:   8% (3/35)\u001b[K\rremote: Counting objects:  11% (4/35)\u001b[K\rremote: Counting objects:  14% (5/35)\u001b[K\rremote: Counting objects:  17% (6/35)\u001b[K\rremote: Counting objects:  20% (7/35)\u001b[K\rremote: Counting objects:  22% (8/35)\u001b[K\rremote: Counting objects:  25% (9/35)\u001b[K\rremote: Counting objects:  28% (10/35)\u001b[K\rremote: Counting objects:  31% (11/35)\u001b[K\rremote: Counting objects:  34% (12/35)\u001b[K\rremote: Counting objects:  37% (13/35)\u001b[K\rremote: Counting objects:  40% (14/35)\u001b[K\rremote: Counting objects:  42% (15/35)\u001b[K\rremote: Counting objects:  45% (16/35)\u001b[K\rremote: Counting objects:  48% (17/35)\u001b[K\rremote: Counting objects:  51% (18/35)\u001b[K\rremote: Counting objects:  54% (19/35)\u001b[K\rremote: Counting objects:  57% (20/35)\u001b[K\rremote: Counting objects:  60% (21/35)\u001b[K\rremote: Counting objects:  62% (22/35)\u001b[K\rremote: Counting objects:  65% (23/35)\u001b[K\rremote: Counting objects:  68% (24/35)\u001b[K\rremote: Counting objects:  71% (25/35)\u001b[K\rremote: Counting objects:  74% (26/35)\u001b[K\rremote: Counting objects:  77% (27/35)\u001b[K\rremote: Counting objects:  80% (28/35)\u001b[K\rremote: Counting objects:  82% (29/35)\u001b[K\rremote: Counting objects:  85% (30/35)\u001b[K\rremote: Counting objects:  88% (31/35)\u001b[K\rremote: Counting objects:  91% (32/35)\u001b[K\rremote: Counting objects:  94% (33/35)\u001b[K\rremote: Counting objects:  97% (34/35)\u001b[K\rremote: Counting objects: 100% (35/35)\u001b[K\rremote: Counting objects: 100% (35/35), done.\u001b[K\n",
            "remote: Compressing objects:   5% (1/19)\u001b[K\rremote: Compressing objects:  10% (2/19)\u001b[K\rremote: Compressing objects:  15% (3/19)\u001b[K\rremote: Compressing objects:  21% (4/19)\u001b[K\rremote: Compressing objects:  26% (5/19)\u001b[K\rremote: Compressing objects:  31% (6/19)\u001b[K\rremote: Compressing objects:  36% (7/19)\u001b[K\rremote: Compressing objects:  42% (8/19)\u001b[K\rremote: Compressing objects:  47% (9/19)\u001b[K\rremote: Compressing objects:  52% (10/19)\u001b[K\rremote: Compressing objects:  57% (11/19)\u001b[K\rremote: Compressing objects:  63% (12/19)\u001b[K\rremote: Compressing objects:  68% (13/19)\u001b[K\rremote: Compressing objects:  73% (14/19)\u001b[K\rremote: Compressing objects:  78% (15/19)\u001b[K\rremote: Compressing objects:  84% (16/19)\u001b[K\rremote: Compressing objects:  89% (17/19)\u001b[K\rremote: Compressing objects:  94% (18/19)\u001b[K\rremote: Compressing objects: 100% (19/19)\u001b[K\rremote: Compressing objects: 100% (19/19), done.\u001b[K\n",
            "Receiving objects:   0% (1/180)   \rReceiving objects:   1% (2/180)   \rReceiving objects:   2% (4/180)   \rReceiving objects:   3% (6/180)   \rReceiving objects:   4% (8/180)   \rReceiving objects:   5% (9/180)   \rReceiving objects:   6% (11/180)   \rReceiving objects:   7% (13/180)   \rReceiving objects:   8% (15/180)   \rReceiving objects:   9% (17/180)   \rReceiving objects:  10% (18/180)   \rReceiving objects:  11% (20/180)   \rReceiving objects:  12% (22/180)   \rReceiving objects:  13% (24/180)   \rReceiving objects:  14% (26/180)   \rReceiving objects:  15% (27/180)   \rReceiving objects:  16% (29/180)   \rReceiving objects:  17% (31/180)   \rReceiving objects:  18% (33/180)   \rReceiving objects:  19% (35/180)   \rReceiving objects:  20% (36/180)   \rReceiving objects:  21% (38/180)   \rReceiving objects:  22% (40/180)   \rReceiving objects:  23% (42/180)   \rReceiving objects:  24% (44/180)   \rReceiving objects:  25% (45/180)   \rReceiving objects:  26% (47/180)   \rReceiving objects:  27% (49/180)   \rReceiving objects:  28% (51/180)   \rReceiving objects:  29% (53/180)   \rReceiving objects:  30% (54/180)   \rReceiving objects:  31% (56/180)   \rReceiving objects:  32% (58/180)   \rReceiving objects:  33% (60/180)   \rReceiving objects:  34% (62/180)   \rReceiving objects:  35% (63/180)   \rReceiving objects:  36% (65/180)   \rReceiving objects:  37% (67/180)   \rReceiving objects:  38% (69/180)   \rReceiving objects:  39% (71/180)   \rReceiving objects:  40% (72/180)   \rReceiving objects:  41% (74/180)   \rReceiving objects:  42% (76/180)   \rReceiving objects:  43% (78/180)   \rReceiving objects:  44% (80/180)   \rReceiving objects:  45% (81/180)   \rReceiving objects:  46% (83/180)   \rReceiving objects:  47% (85/180)   \rReceiving objects:  48% (87/180)   \rReceiving objects:  49% (89/180)   \rReceiving objects:  50% (90/180)   \rReceiving objects:  51% (92/180)   \rReceiving objects:  52% (94/180)   \rReceiving objects:  53% (96/180)   \rReceiving objects:  54% (98/180)   \rReceiving objects:  55% (99/180)   \rReceiving objects:  56% (101/180)   \rReceiving objects:  57% (103/180)   \rReceiving objects:  58% (105/180)   \rReceiving objects:  59% (107/180)   \rReceiving objects:  60% (108/180)   \rReceiving objects:  61% (110/180)   \rReceiving objects:  62% (112/180)   \rReceiving objects:  63% (114/180)   \rReceiving objects:  64% (116/180)   \rReceiving objects:  65% (117/180)   \rReceiving objects:  66% (119/180)   \rReceiving objects:  67% (121/180)   \rReceiving objects:  68% (123/180)   \rReceiving objects:  69% (125/180)   \rReceiving objects:  70% (126/180)   \rReceiving objects:  71% (128/180)   \rReceiving objects:  72% (130/180)   \rReceiving objects:  73% (132/180)   \rReceiving objects:  74% (134/180)   \rReceiving objects:  75% (135/180)   \rReceiving objects:  76% (137/180)   \rReceiving objects:  77% (139/180)   \rReceiving objects:  78% (141/180)   \rReceiving objects:  79% (143/180)   \rReceiving objects:  80% (144/180)   \rReceiving objects:  81% (146/180)   \rReceiving objects:  82% (148/180)   \rReceiving objects:  83% (150/180)   \rReceiving objects:  84% (152/180)   \rremote: Total 180 (delta 13), reused 24 (delta 10), pack-reused 145\u001b[K\n",
            "Receiving objects:  85% (153/180)   \rReceiving objects:  86% (155/180)   \rReceiving objects:  87% (157/180)   \rReceiving objects:  88% (159/180)   \rReceiving objects:  89% (161/180)   \rReceiving objects:  90% (162/180)   \rReceiving objects:  91% (164/180)   \rReceiving objects:  92% (166/180)   \rReceiving objects:  93% (168/180)   \rReceiving objects:  94% (170/180)   \rReceiving objects:  95% (171/180)   \rReceiving objects:  96% (173/180)   \rReceiving objects:  97% (175/180)   \rReceiving objects:  98% (177/180)   \rReceiving objects:  99% (179/180)   \rReceiving objects: 100% (180/180)   \rReceiving objects: 100% (180/180), 65.56 KiB | 3.12 MiB/s, done.\n",
            "Resolving deltas:   0% (0/72)   \rResolving deltas:   1% (1/72)   \rResolving deltas:   8% (6/72)   \rResolving deltas:  12% (9/72)   \rResolving deltas:  25% (18/72)   \rResolving deltas:  26% (19/72)   \rResolving deltas:  27% (20/72)   \rResolving deltas:  29% (21/72)   \rResolving deltas:  30% (22/72)   \rResolving deltas:  33% (24/72)   \rResolving deltas:  36% (26/72)   \rResolving deltas:  43% (31/72)   \rResolving deltas:  48% (35/72)   \rResolving deltas:  54% (39/72)   \rResolving deltas:  55% (40/72)   \rResolving deltas:  56% (41/72)   \rResolving deltas:  68% (49/72)   \rResolving deltas:  73% (53/72)   \rResolving deltas:  84% (61/72)   \rResolving deltas:  88% (64/72)   \rResolving deltas:  95% (69/72)   \rResolving deltas:  97% (70/72)   \rResolving deltas: 100% (72/72)   \rResolving deltas: 100% (72/72), done.\n"
          ]
        }
      ],
      "source": [
        "!git clone https://github.com/mseitzer/pytorch-fid"
      ]
    },
    {
      "cell_type": "code",
      "source": [
        "!pip3 install pytorch-fid"
      ],
      "metadata": {
        "colab": {
          "base_uri": "https://localhost:8080/"
        },
        "id": "Zy1GlWx3mqqN",
        "outputId": "a2d120ad-72b2-418e-df85-bf9901080eb2"
      },
      "execution_count": null,
      "outputs": [
        {
          "output_type": "stream",
          "name": "stdout",
          "text": [
            "Collecting pytorch-fid\n",
            "  Downloading pytorch-fid-0.2.1.tar.gz (14 kB)\n",
            "Requirement already satisfied: numpy in /usr/local/lib/python3.7/dist-packages (from pytorch-fid) (1.21.5)\n",
            "Requirement already satisfied: pillow in /usr/local/lib/python3.7/dist-packages (from pytorch-fid) (7.1.2)\n",
            "Requirement already satisfied: scipy in /usr/local/lib/python3.7/dist-packages (from pytorch-fid) (1.4.1)\n",
            "Requirement already satisfied: torch>=1.0.1 in /usr/local/lib/python3.7/dist-packages (from pytorch-fid) (1.10.0+cu111)\n",
            "Requirement already satisfied: torchvision>=0.2.2 in /usr/local/lib/python3.7/dist-packages (from pytorch-fid) (0.11.1+cu111)\n",
            "Requirement already satisfied: typing-extensions in /usr/local/lib/python3.7/dist-packages (from torch>=1.0.1->pytorch-fid) (3.10.0.2)\n",
            "Building wheels for collected packages: pytorch-fid\n",
            "  Building wheel for pytorch-fid (setup.py) ... \u001b[?25l\u001b[?25hdone\n",
            "  Created wheel for pytorch-fid: filename=pytorch_fid-0.2.1-py3-none-any.whl size=14835 sha256=b3af0969b7b106d15cbe4a6bce9e9c7aec914c6c3d5fedb68558d3b72ee4f522\n",
            "  Stored in directory: /root/.cache/pip/wheels/24/ac/03/c5634775c8a64f702343ef5923278f8d3bb8c651debc4a6890\n",
            "Successfully built pytorch-fid\n",
            "Installing collected packages: pytorch-fid\n",
            "Successfully installed pytorch-fid-0.2.1\n"
          ]
        }
      ]
    },
    {
      "cell_type": "markdown",
      "source": [
        "To compute the FID score between two datasets, where images of each dataset are contained in an individual folder:\n",
        "\n",
        "To run the evaluation on GPU, use the flag --device cuda:N, where N is the index of the GPU to use."
      ],
      "metadata": {
        "id": "Ow2QKQYEozLg"
      }
    },
    {
      "cell_type": "markdown",
      "source": [
        "## Download the directory eval/pytorch_sfid from our the github repo and use it to replace the original /pytorch_fid/src/pytorch_fid directory"
      ],
      "metadata": {
        "id": "ALC4n1p4IwK7"
      }
    },
    {
      "cell_type": "code",
      "source": [
        "path/to/dataset1 = ''\n",
        "path/to/dataset2 = ''"
      ],
      "metadata": {
        "id": "aFW18e5lMt5J"
      },
      "execution_count": null,
      "outputs": []
    },
    {
      "cell_type": "code",
      "source": [
        "!python3 -m pytorch_sfid path/to/dataset1 path/to/dataset2"
      ],
      "metadata": {
        "id": "1bBlvSvzo4M1"
      },
      "execution_count": null,
      "outputs": []
    }
  ]
}
